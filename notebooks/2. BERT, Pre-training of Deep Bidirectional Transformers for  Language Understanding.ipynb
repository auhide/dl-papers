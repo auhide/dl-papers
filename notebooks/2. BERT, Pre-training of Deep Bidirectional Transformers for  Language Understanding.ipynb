{
 "cells": [
  {
   "attachments": {},
   "cell_type": "markdown",
   "metadata": {},
   "source": [
    "# BERT: Pre-training of Deep Bidirectional Transformers Language Understanding"
   ]
  },
  {
   "attachments": {},
   "cell_type": "markdown",
   "metadata": {},
   "source": [
    "## 1. Libraries"
   ]
  },
  {
   "cell_type": "code",
   "execution_count": 3,
   "metadata": {},
   "outputs": [],
   "source": [
    "import os\n",
    "import re\n",
    "import math\n",
    "from typing import List\n",
    "\n",
    "import spacy\n",
    "import torch\n",
    "import torchtext\n",
    "import pandas as pd\n",
    "import numpy as np\n",
    "from torch import nn\n",
    "from torch.utils.data import random_split\n",
    "from torchtext.data.utils import get_tokenizer\n",
    "from torchtext.vocab import build_vocab_from_iterator\n",
    "from torch.utils.data import Dataset, DataLoader\n",
    "\n",
    "\n",
    "# Controlling the randomness in PyTorch and NumPy.\n",
    "RANDOM_SEED = 0\n",
    "np.random.seed(RANDOM_SEED)\n",
    "torch.backends.cudnn.benchmark = True\n",
    "torch.manual_seed(RANDOM_SEED)\n",
    "torch.cuda.manual_seed(RANDOM_SEED)"
   ]
  },
  {
   "attachments": {},
   "cell_type": "markdown",
   "metadata": {},
   "source": [
    "## 2. The Dataset"
   ]
  },
  {
   "attachments": {},
   "cell_type": "markdown",
   "metadata": {},
   "source": [
    "### 2.1. Reading the raw dataset"
   ]
  },
  {
   "cell_type": "code",
   "execution_count": 4,
   "metadata": {},
   "outputs": [
    {
     "data": {
      "text/html": [
       "<div>\n",
       "<style scoped>\n",
       "    .dataframe tbody tr th:only-of-type {\n",
       "        vertical-align: middle;\n",
       "    }\n",
       "\n",
       "    .dataframe tbody tr th {\n",
       "        vertical-align: top;\n",
       "    }\n",
       "\n",
       "    .dataframe thead th {\n",
       "        text-align: right;\n",
       "    }\n",
       "</style>\n",
       "<table border=\"1\" class=\"dataframe\">\n",
       "  <thead>\n",
       "    <tr style=\"text-align: right;\">\n",
       "      <th></th>\n",
       "      <th>ArticleTitle</th>\n",
       "      <th>Question</th>\n",
       "      <th>Answer</th>\n",
       "      <th>DifficultyFromQuestioner</th>\n",
       "      <th>DifficultyFromAnswerer</th>\n",
       "      <th>ArticleFile</th>\n",
       "    </tr>\n",
       "  </thead>\n",
       "  <tbody>\n",
       "    <tr>\n",
       "      <th>0</th>\n",
       "      <td>Abraham_Lincoln</td>\n",
       "      <td>Was Abraham Lincoln the sixteenth President of...</td>\n",
       "      <td>yes</td>\n",
       "      <td>easy</td>\n",
       "      <td>easy</td>\n",
       "      <td>S08_set3_a4</td>\n",
       "    </tr>\n",
       "    <tr>\n",
       "      <th>1</th>\n",
       "      <td>Abraham_Lincoln</td>\n",
       "      <td>Was Abraham Lincoln the sixteenth President of...</td>\n",
       "      <td>Yes.</td>\n",
       "      <td>easy</td>\n",
       "      <td>easy</td>\n",
       "      <td>S08_set3_a4</td>\n",
       "    </tr>\n",
       "    <tr>\n",
       "      <th>2</th>\n",
       "      <td>Abraham_Lincoln</td>\n",
       "      <td>Did Lincoln sign the National Banking Act of 1...</td>\n",
       "      <td>yes</td>\n",
       "      <td>easy</td>\n",
       "      <td>medium</td>\n",
       "      <td>S08_set3_a4</td>\n",
       "    </tr>\n",
       "    <tr>\n",
       "      <th>3</th>\n",
       "      <td>Abraham_Lincoln</td>\n",
       "      <td>Did Lincoln sign the National Banking Act of 1...</td>\n",
       "      <td>Yes.</td>\n",
       "      <td>easy</td>\n",
       "      <td>easy</td>\n",
       "      <td>S08_set3_a4</td>\n",
       "    </tr>\n",
       "    <tr>\n",
       "      <th>4</th>\n",
       "      <td>Abraham_Lincoln</td>\n",
       "      <td>Did his mother die of pneumonia?</td>\n",
       "      <td>no</td>\n",
       "      <td>easy</td>\n",
       "      <td>medium</td>\n",
       "      <td>S08_set3_a4</td>\n",
       "    </tr>\n",
       "  </tbody>\n",
       "</table>\n",
       "</div>"
      ],
      "text/plain": [
       "      ArticleTitle                                           Question Answer  \\\n",
       "0  Abraham_Lincoln  Was Abraham Lincoln the sixteenth President of...    yes   \n",
       "1  Abraham_Lincoln  Was Abraham Lincoln the sixteenth President of...   Yes.   \n",
       "2  Abraham_Lincoln  Did Lincoln sign the National Banking Act of 1...    yes   \n",
       "3  Abraham_Lincoln  Did Lincoln sign the National Banking Act of 1...   Yes.   \n",
       "4  Abraham_Lincoln                   Did his mother die of pneumonia?     no   \n",
       "\n",
       "  DifficultyFromQuestioner DifficultyFromAnswerer  ArticleFile  \n",
       "0                     easy                   easy  S08_set3_a4  \n",
       "1                     easy                   easy  S08_set3_a4  \n",
       "2                     easy                 medium  S08_set3_a4  \n",
       "3                     easy                   easy  S08_set3_a4  \n",
       "4                     easy                 medium  S08_set3_a4  "
      ]
     },
     "execution_count": 4,
     "metadata": {},
     "output_type": "execute_result"
    }
   ],
   "source": [
    "BASE_DATASET_PATH = os.path.join(\n",
    "    \"..\", \n",
    "    \"..\", \n",
    "    \"nlp\", \n",
    "    \"datasets\", \n",
    "    \"en-question-answer\"\n",
    ")\n",
    "S08_FILENAME = \"S08_question_answer_pairs.txt\"\n",
    "S09_FILENAME = \"S09_question_answer_pairs.txt\"\n",
    "S10_FILENAME = \"S10_question_answer_pairs.txt\"\n",
    "\n",
    "s08_df = pd.read_csv(os.path.join(BASE_DATASET_PATH, S08_FILENAME), delimiter=\"\\t\")\n",
    "s09_df = pd.read_csv(os.path.join(BASE_DATASET_PATH, S09_FILENAME), delimiter=\"\\t\")\n",
    "s10_df = pd.read_csv(os.path.join(BASE_DATASET_PATH, S10_FILENAME), delimiter=\"\\t\", encoding=\"latin\")\n",
    "\n",
    "df = pd.concat([s08_df, s09_df, s10_df])\n",
    "df.head()"
   ]
  },
  {
   "attachments": {},
   "cell_type": "markdown",
   "metadata": {},
   "source": [
    "### 2.2. Initializing The SpaCy English Tokenizer"
   ]
  },
  {
   "cell_type": "code",
   "execution_count": 5,
   "metadata": {},
   "outputs": [],
   "source": [
    "en_tokenizer = get_tokenizer(\"spacy\", \"en_core_web_sm\")"
   ]
  },
  {
   "attachments": {},
   "cell_type": "markdown",
   "metadata": {},
   "source": [
    "### 2.3. Removing *NaN* valued rows (ror the 'Question' and 'Answer' columns)"
   ]
  },
  {
   "cell_type": "code",
   "execution_count": 6,
   "metadata": {},
   "outputs": [
    {
     "name": "stdout",
     "output_type": "stream",
     "text": [
      "Are there any NaN values in 'Question': False\n",
      "Are there any NaN values in 'Answer': False\n"
     ]
    }
   ],
   "source": [
    "df = df[df[\"Answer\"].notna()]\n",
    "print(\"Are there any NaN values in 'Question':\", df[\"Answer\"].isnull().any().any())\n",
    "print(\"Are there any NaN values in 'Answer':\", df[\"Answer\"].isnull().any().any())"
   ]
  },
  {
   "attachments": {},
   "cell_type": "markdown",
   "metadata": {},
   "source": [
    "### 2.4. Choosing the maximum sizes based on the distributions of 'Questions' And 'Answers'"
   ]
  },
  {
   "cell_type": "code",
   "execution_count": 7,
   "metadata": {},
   "outputs": [
    {
     "data": {
      "text/html": [
       "<div>\n",
       "<style scoped>\n",
       "    .dataframe tbody tr th:only-of-type {\n",
       "        vertical-align: middle;\n",
       "    }\n",
       "\n",
       "    .dataframe tbody tr th {\n",
       "        vertical-align: top;\n",
       "    }\n",
       "\n",
       "    .dataframe thead th {\n",
       "        text-align: right;\n",
       "    }\n",
       "</style>\n",
       "<table border=\"1\" class=\"dataframe\">\n",
       "  <thead>\n",
       "    <tr style=\"text-align: right;\">\n",
       "      <th></th>\n",
       "      <th>ArticleTitle</th>\n",
       "      <th>Question</th>\n",
       "      <th>Answer</th>\n",
       "      <th>DifficultyFromQuestioner</th>\n",
       "      <th>DifficultyFromAnswerer</th>\n",
       "      <th>ArticleFile</th>\n",
       "      <th>Question Size</th>\n",
       "      <th>Answer Size</th>\n",
       "    </tr>\n",
       "  </thead>\n",
       "  <tbody>\n",
       "    <tr>\n",
       "      <th>0</th>\n",
       "      <td>Abraham_Lincoln</td>\n",
       "      <td>Was Abraham Lincoln the sixteenth President of...</td>\n",
       "      <td>yes</td>\n",
       "      <td>easy</td>\n",
       "      <td>easy</td>\n",
       "      <td>S08_set3_a4</td>\n",
       "      <td>11</td>\n",
       "      <td>1</td>\n",
       "    </tr>\n",
       "    <tr>\n",
       "      <th>1</th>\n",
       "      <td>Abraham_Lincoln</td>\n",
       "      <td>Was Abraham Lincoln the sixteenth President of...</td>\n",
       "      <td>Yes.</td>\n",
       "      <td>easy</td>\n",
       "      <td>easy</td>\n",
       "      <td>S08_set3_a4</td>\n",
       "      <td>11</td>\n",
       "      <td>2</td>\n",
       "    </tr>\n",
       "    <tr>\n",
       "      <th>2</th>\n",
       "      <td>Abraham_Lincoln</td>\n",
       "      <td>Did Lincoln sign the National Banking Act of 1...</td>\n",
       "      <td>yes</td>\n",
       "      <td>easy</td>\n",
       "      <td>medium</td>\n",
       "      <td>S08_set3_a4</td>\n",
       "      <td>10</td>\n",
       "      <td>1</td>\n",
       "    </tr>\n",
       "    <tr>\n",
       "      <th>3</th>\n",
       "      <td>Abraham_Lincoln</td>\n",
       "      <td>Did Lincoln sign the National Banking Act of 1...</td>\n",
       "      <td>Yes.</td>\n",
       "      <td>easy</td>\n",
       "      <td>easy</td>\n",
       "      <td>S08_set3_a4</td>\n",
       "      <td>10</td>\n",
       "      <td>2</td>\n",
       "    </tr>\n",
       "    <tr>\n",
       "      <th>4</th>\n",
       "      <td>Abraham_Lincoln</td>\n",
       "      <td>Did his mother die of pneumonia?</td>\n",
       "      <td>no</td>\n",
       "      <td>easy</td>\n",
       "      <td>medium</td>\n",
       "      <td>S08_set3_a4</td>\n",
       "      <td>7</td>\n",
       "      <td>1</td>\n",
       "    </tr>\n",
       "  </tbody>\n",
       "</table>\n",
       "</div>"
      ],
      "text/plain": [
       "      ArticleTitle                                           Question Answer  \\\n",
       "0  Abraham_Lincoln  Was Abraham Lincoln the sixteenth President of...    yes   \n",
       "1  Abraham_Lincoln  Was Abraham Lincoln the sixteenth President of...   Yes.   \n",
       "2  Abraham_Lincoln  Did Lincoln sign the National Banking Act of 1...    yes   \n",
       "3  Abraham_Lincoln  Did Lincoln sign the National Banking Act of 1...   Yes.   \n",
       "4  Abraham_Lincoln                   Did his mother die of pneumonia?     no   \n",
       "\n",
       "  DifficultyFromQuestioner DifficultyFromAnswerer  ArticleFile  Question Size  \\\n",
       "0                     easy                   easy  S08_set3_a4             11   \n",
       "1                     easy                   easy  S08_set3_a4             11   \n",
       "2                     easy                 medium  S08_set3_a4             10   \n",
       "3                     easy                   easy  S08_set3_a4             10   \n",
       "4                     easy                 medium  S08_set3_a4              7   \n",
       "\n",
       "   Answer Size  \n",
       "0            1  \n",
       "1            2  \n",
       "2            1  \n",
       "3            2  \n",
       "4            1  "
      ]
     },
     "execution_count": 7,
     "metadata": {},
     "output_type": "execute_result"
    }
   ],
   "source": [
    "df[\"Question Size\"] = df[\"Question\"].apply(lambda x: len(en_tokenizer(str(x))))\n",
    "df[\"Answer Size\"] = df[\"Answer\"].apply(lambda x: len(en_tokenizer(str(x))))\n",
    "df.head()"
   ]
  },
  {
   "cell_type": "code",
   "execution_count": 8,
   "metadata": {},
   "outputs": [
    {
     "data": {
      "text/plain": [
       "array([[<AxesSubplot:title={'center':'Question Size'}>,\n",
       "        <AxesSubplot:title={'center':'Answer Size'}>]], dtype=object)"
      ]
     },
     "execution_count": 8,
     "metadata": {},
     "output_type": "execute_result"
    },
    {
     "data": {
      "image/png": "[encoded data removed]",
      "text/plain": [
       "<Figure size 1080x360 with 2 Axes>"
      ]
     },
     "metadata": {
      "needs_background": "light"
     },
     "output_type": "display_data"
    }
   ],
   "source": [
    "df[[\"Question Size\", \"Answer Size\"]].hist(figsize=(15, 5))"
   ]
  },
  {
   "attachments": {},
   "cell_type": "markdown",
   "metadata": {},
   "source": [
    "As we can see it would be okay to choose maxmimum question size of $20$ and maximum answer size of $30$."
   ]
  },
  {
   "attachments": {},
   "cell_type": "markdown",
   "metadata": {},
   "source": [
    "### 2.5. Creating a vocabulary"
   ]
  },
  {
   "cell_type": "code",
   "execution_count": 11,
   "metadata": {},
   "outputs": [
    {
     "name": "stdout",
     "output_type": "stream",
     "text": [
      "Vocab created!\n"
     ]
    }
   ],
   "source": [
    "def pad_sequence(tokens, max_len):\n",
    "    if len(tokens) >= max_len:\n",
    "        tokens = tokens[:max_len]\n",
    "    else:\n",
    "        len_diff = max_len - len(tokens)\n",
    "        tokens = tokens + [\"<pad>\"] * len_diff\n",
    "\n",
    "    return tokens\n",
    "\n",
    "\n",
    "def iterate_corpus(\n",
    "    questions: List, answers: List, \n",
    "    q_max_len: int, a_max_len: int, \n",
    "    tokenizer: spacy.tokenizer.Tokenizer\n",
    "):\n",
    "    for q, a in zip(questions, answers):\n",
    "        q_tokens = tokenizer(q)\n",
    "        a_tokens = tokenizer(a)\n",
    "\n",
    "        q_tokens = pad_sequence(q_tokens, q_max_len)\n",
    "        a_tokens = pad_sequence(a_tokens, a_max_len)\n",
    "\n",
    "        yield [\"<cls>\"] + q_tokens + [\"<sep>\"] + a_tokens + [\"<sep>\"]\n",
    "\n",
    "\n",
    "SPECIALS = [\"<pad>\", \"<sep>\", \"<cls>\"]\n",
    "Q_MAX_LEN = 20\n",
    "A_MAX_LEN = 30\n",
    "\n",
    "\n",
    "vocab = build_vocab_from_iterator(\n",
    "    iterate_corpus(\n",
    "        df[\"Question\"].tolist(),\n",
    "        df[\"Answer\"].tolist(),\n",
    "        Q_MAX_LEN,\n",
    "        A_MAX_LEN,\n",
    "        en_tokenizer\n",
    "    ), \n",
    "    specials=SPECIALS\n",
    ")\n",
    "print(\"Vocab created!\")"
   ]
  },
  {
   "attachments": {},
   "cell_type": "markdown",
   "metadata": {},
   "source": [
    "### 2.6. Creating a PyTorch Dataset"
   ]
  },
  {
   "cell_type": "code",
   "execution_count": 36,
   "metadata": {},
   "outputs": [
    {
     "name": "stdout",
     "output_type": "stream",
     "text": [
      "['Was Abraham Lincoln the sixteenth President of the United States?', 'Was Abraham Lincoln the sixteenth President of the United States?', 'Did Lincoln sign the National Banking Act of 1863?', 'Did Lincoln sign the National Banking Act of 1863?', 'Did his mother die of pneumonia?', 'Did his mother die of pneumonia?', \"How many long was Lincoln's formal education?\", \"How many long was Lincoln's formal education?\", 'When did Lincoln begin his political career?', 'When did Lincoln begin his political career?']\n",
      "['yes', 'Yes.', 'yes', 'Yes.', 'no', 'No.', '18 months', '18 months.', '1832', '1832.']\n"
     ]
    },
    {
     "data": {
      "text/plain": [
       "<__main__.QuestionsAnswersDataset at 0x2161c3360a0>"
      ]
     },
     "execution_count": 36,
     "metadata": {},
     "output_type": "execute_result"
    }
   ],
   "source": [
    "# TODO: Create the Q&A dataset\n",
    "class QuestionsAnswersDataset(Dataset):\n",
    "\n",
    "    def __init__(\n",
    "        self,\n",
    "        questions: List,\n",
    "        answers: List,\n",
    "        q_max_size: int,\n",
    "        a_max_size: int,\n",
    "        tokenizer,\n",
    "        vocab\n",
    "    ):\n",
    "        self.q_max_size = q_max_size\n",
    "        self.a_max_size = a_max_size\n",
    "        self.tokenizer = tokenizer\n",
    "        self.vocab = vocab\n",
    "    \n",
    "        self.x, self.y = self._get_inout_tensors(questions, answers)\n",
    "\n",
    "    def __getitem__(self, idx):\n",
    "        pass\n",
    "\n",
    "    def __len__(self):\n",
    "        pass\n",
    "\n",
    "    def _get_inout_tensors(self, questions: List, answers: List):\n",
    "        \n",
    "\n",
    "        for q, a in zip(questions, answers):\n",
    "            q_tokens = self.tokenizer(q)\n",
    "            a_tokens = self.tokenizer(a)\n",
    "            \n",
    "            q_tokens = pad_sequence(q_tokens, self.q_max_len)\n",
    "            a_tokens = pad_sequence(a_tokens, self.a_max_len)\n",
    "            \n",
    "            input_sequence = [\"<cls>\"] + q_tokens + [\"<sep>\"] + a_tokens + [\"<sep>\"]\n",
    "\n",
    "            \n",
    "\n",
    "questions = df[\"Question\"].tolist()\n",
    "answers = df[\"Answer\"].tolist()\n",
    "\n",
    "QuestionsAnswersDataset(questions=questions, answers=answers)"
   ]
  },
  {
   "attachments": {},
   "cell_type": "markdown",
   "metadata": {},
   "source": [
    "## 3. BERT"
   ]
  },
  {
   "cell_type": "code",
   "execution_count": 19,
   "metadata": {},
   "outputs": [],
   "source": [
    "class PositionalEncoding(nn.Module):\n",
    "\n",
    "    def __init__(self, d_model: int, dropout: float = 0.1, max_len: int = 5000):\n",
    "        super().__init__()\n",
    "        self.dropout = nn.Dropout(p=dropout)\n",
    "\n",
    "        position = torch.arange(max_len).unsqueeze(1)\n",
    "        div_term = torch.exp(torch.arange(0, d_model, 2) * (-math.log(10000.0) / d_model))\n",
    "        pe = torch.zeros(max_len, 1, d_model)\n",
    "\n",
    "        pe[:, 0, 0::2] = torch.sin(position * div_term)\n",
    "        pe[:, 0, 1::2] = torch.cos(position * div_term)\n",
    "\n",
    "        self.register_buffer('pe', pe)\n",
    "\n",
    "    def forward(self, x: torch.Tensor) -> torch.Tensor:\n",
    "        x = x + self.pe[:x.size(0)]\n",
    "        \n",
    "        return self.dropout(x)"
   ]
  },
  {
   "cell_type": "code",
   "execution_count": 23,
   "metadata": {},
   "outputs": [
    {
     "name": "stdout",
     "output_type": "stream",
     "text": [
      "Input shape: torch.Size([2, 5])\n",
      "Segmentations shape: torch.Size([2, 5])\n",
      "Output shape: torch.Size([2, 5, 64])\n"
     ]
    }
   ],
   "source": [
    "class BERT(nn.Module):\n",
    "    \n",
    "    def __init__(\n",
    "        self, \n",
    "        d_model, nheads, num_layers,\n",
    "        vocab_size,\n",
    "        padding_index=0,\n",
    "        dropout=0.1\n",
    "    ):\n",
    "        super().__init__()\n",
    "\n",
    "        assert d_model % nheads == 0, \"'d_model' has to be divisible by 'nheads'.\"\n",
    "\n",
    "        # Token embedding\n",
    "        self.token_embed = nn.Embedding(\n",
    "            num_embeddings=vocab_size, embedding_dim=d_model, \n",
    "            padding_idx=padding_index\n",
    "        )\n",
    "\n",
    "        # Segmentation embedding\n",
    "        # The difference here is that we are setting 'num_embeddings' to 3 because\n",
    "        # we will use 0 as padding index, 1 as sent1 index and 2 as sent2 index.\n",
    "        self.segm_embed = nn.Embedding(\n",
    "            num_embeddings=3, embedding_dim=d_model, \n",
    "            padding_idx=padding_index\n",
    "        )\n",
    "\n",
    "        # Positional embedding\n",
    "        self.pos_embed = PositionalEncoding(\n",
    "            d_model, dropout\n",
    "        )\n",
    "\n",
    "        # Dropout after all embeddings\n",
    "        self.dropout = nn.Dropout(p=dropout)\n",
    "\n",
    "        enc_layer = nn.TransformerEncoderLayer(\n",
    "            d_model=d_model, nhead=nheads, batch_first=True\n",
    "        )\n",
    "        self.encoder = nn.TransformerEncoder(\n",
    "            encoder_layer=enc_layer, num_layers=num_layers\n",
    "        )\n",
    "\n",
    "    def forward(self, x, segmentations):\n",
    "        # Input embedding\n",
    "        x = self.token_embed(x)\n",
    "        x += self.segm_embed(segmentations)\n",
    "        x += self.pos_embed(x)\n",
    "\n",
    "        out = self.encoder(self.dropout(x))\n",
    "\n",
    "        return out\n",
    "\n",
    "    def init_weights(self):\n",
    "        initrange = 0.1\n",
    "        self.encoder.weight.data.uniform_(-initrange, initrange)\n",
    "\n",
    "\n",
    "model = BERT(\n",
    "    d_model=64,\n",
    "    nheads=8,\n",
    "    num_layers=2,\n",
    "    vocab_size=100\n",
    ")\n",
    "\n",
    "x = torch.randint(low=0, high=99, size=(2, 5))\n",
    "segmentations = torch.randint(low=0, high=3, size=(2, 5))\n",
    "\n",
    "print(\"Input shape:\", x.shape)\n",
    "print(\"Segmentations shape:\", segmentations.shape)\n",
    "x = model(x, segmentations)\n",
    "print(\"Output shape:\", x.shape)"
   ]
  }
 ],
 "metadata": {
  "kernelspec": {
   "display_name": "Python 3",
   "language": "python",
   "name": "python3"
  },
  "language_info": {
   "codemirror_mode": {
    "name": "ipython",
    "version": 3
   },
   "file_extension": ".py",
   "mimetype": "text/x-python",
   "name": "python",
   "nbconvert_exporter": "python",
   "pygments_lexer": "ipython3",
   "version": "3.9.13"
  },
  "orig_nbformat": 4,
  "vscode": {
   "interpreter": {
    "hash": "8100bb27ef6f27bb6b63ba202e13f32f0dffed430e6a4d162d3986e448f218b2"
   }
  }
 },
 "nbformat": 4,
 "nbformat_minor": 2
}
